{
  "cells": [
    {
      "cell_type": "code",
      "execution_count": 1,
      "metadata": {
        "colab": {
          "base_uri": "https://localhost:8080/"
        },
        "id": "ZP13X1nVmBbJ",
        "outputId": "e1fd3df1-f03d-42c2-d0ec-e0a213e6a709"
      },
      "outputs": [
        {
          "data": {
            "text/plain": [
              "'pipinstallgoogletrans'"
            ]
          },
          "execution_count": 1,
          "metadata": {},
          "output_type": "execute_result"
        }
      ],
      "source": [
        "\"pip\" \"install\" \"googletrans\""
      ]
    },
    {
      "cell_type": "code",
      "execution_count": 2,
      "metadata": {
        "id": "nQUCrt7CmbhN"
      },
      "outputs": [],
      "source": [
        "import googletrans\n",
        "from googletrans import Translator"
      ]
    },
    {
      "cell_type": "code",
      "execution_count": 3,
      "metadata": {
        "colab": {
          "base_uri": "https://localhost:8080/"
        },
        "id": "X_eP8od4nCq8",
        "outputId": "dcdd1f26-57ad-4e98-a391-04e98d710f04"
      },
      "outputs": [
        {
          "name": "stdout",
          "output_type": "stream",
          "text": [
            "{'af': 'afrikaans', 'sq': 'albanian', 'am': 'amharic', 'ar': 'arabic', 'hy': 'armenian', 'az': 'azerbaijani', 'eu': 'basque', 'be': 'belarusian', 'bn': 'bengali', 'bs': 'bosnian', 'bg': 'bulgarian', 'ca': 'catalan', 'ceb': 'cebuano', 'ny': 'chichewa', 'zh-cn': 'chinese (simplified)', 'zh-tw': 'chinese (traditional)', 'co': 'corsican', 'hr': 'croatian', 'cs': 'czech', 'da': 'danish', 'nl': 'dutch', 'en': 'english', 'eo': 'esperanto', 'et': 'estonian', 'tl': 'filipino', 'fi': 'finnish', 'fr': 'french', 'fy': 'frisian', 'gl': 'galician', 'ka': 'georgian', 'de': 'german', 'el': 'greek', 'gu': 'gujarati', 'ht': 'haitian creole', 'ha': 'hausa', 'haw': 'hawaiian', 'iw': 'hebrew', 'he': 'hebrew', 'hi': 'hindi', 'hmn': 'hmong', 'hu': 'hungarian', 'is': 'icelandic', 'ig': 'igbo', 'id': 'indonesian', 'ga': 'irish', 'it': 'italian', 'ja': 'japanese', 'jw': 'javanese', 'kn': 'kannada', 'kk': 'kazakh', 'km': 'khmer', 'ko': 'korean', 'ku': 'kurdish (kurmanji)', 'ky': 'kyrgyz', 'lo': 'lao', 'la': 'latin', 'lv': 'latvian', 'lt': 'lithuanian', 'lb': 'luxembourgish', 'mk': 'macedonian', 'mg': 'malagasy', 'ms': 'malay', 'ml': 'malayalam', 'mt': 'maltese', 'mi': 'maori', 'mr': 'marathi', 'mn': 'mongolian', 'my': 'myanmar (burmese)', 'ne': 'nepali', 'no': 'norwegian', 'or': 'odia', 'ps': 'pashto', 'fa': 'persian', 'pl': 'polish', 'pt': 'portuguese', 'pa': 'punjabi', 'ro': 'romanian', 'ru': 'russian', 'sm': 'samoan', 'gd': 'scots gaelic', 'sr': 'serbian', 'st': 'sesotho', 'sn': 'shona', 'sd': 'sindhi', 'si': 'sinhala', 'sk': 'slovak', 'sl': 'slovenian', 'so': 'somali', 'es': 'spanish', 'su': 'sundanese', 'sw': 'swahili', 'sv': 'swedish', 'tg': 'tajik', 'ta': 'tamil', 'te': 'telugu', 'th': 'thai', 'tr': 'turkish', 'uk': 'ukrainian', 'ur': 'urdu', 'ug': 'uyghur', 'uz': 'uzbek', 'vi': 'vietnamese', 'cy': 'welsh', 'xh': 'xhosa', 'yi': 'yiddish', 'yo': 'yoruba', 'zu': 'zulu'}\n"
          ]
        }
      ],
      "source": [
        "print(googletrans.LANGUAGES)"
      ]
    },
    {
      "cell_type": "code",
      "execution_count": 4,
      "metadata": {
        "colab": {
          "base_uri": "https://localhost:8080/"
        },
        "id": "06FfBrqdnSsC",
        "outputId": "87fb1644-a012-424e-bc0d-b8bd87968e27"
      },
      "outputs": [
        {
          "name": "stdout",
          "output_type": "stream",
          "text": [
            "Detected(lang=es, confidence=None)\n"
          ]
        }
      ],
      "source": [
        "translator = Translator()\n",
        "text = \"¿Hablas inglés?\"\n",
        "lang = translator.detect(text)\n",
        "print(lang)"
      ]
    },
    {
      "cell_type": "code",
      "execution_count": 5,
      "metadata": {
        "colab": {
          "base_uri": "https://localhost:8080/"
        },
        "id": "SKP4TmYWooA0",
        "outputId": "7bf52507-4b75-4d54-eed4-ad23a76a767e"
      },
      "outputs": [
        {
          "name": "stdout",
          "output_type": "stream",
          "text": [
            "fr\n"
          ]
        }
      ],
      "source": [
        "translator = Translator()\n",
        "text = \"Merci pour tout.\"\n",
        "lang = translator.detect(text).lang\n",
        "print(lang)"
      ]
    },
    {
      "cell_type": "code",
      "execution_count": 6,
      "metadata": {
        "colab": {
          "base_uri": "https://localhost:8080/"
        },
        "id": "M6fFSlcKo5I2",
        "outputId": "ab1ffa49-118a-4843-ac71-85ab31d250b8"
      },
      "outputs": [
        {
          "name": "stdout",
          "output_type": "stream",
          "text": [
            "Translated(src=fr, dest=en, text=Thank you for everything., pronunciation=None, extra_data=\"{'confiden...\")\n"
          ]
        }
      ],
      "source": [
        "translated_text = translator.translate(text, src = lang, dest = 'en')\n",
        "print(translated_text)"
      ]
    },
    {
      "cell_type": "code",
      "execution_count": 7,
      "metadata": {
        "colab": {
          "base_uri": "https://localhost:8080/"
        },
        "id": "JP0oYw-Lppr9",
        "outputId": "333de812-c300-4300-c5a6-00c555793090"
      },
      "outputs": [
        {
          "name": "stdout",
          "output_type": "stream",
          "text": [
            "Translated(src=fr, dest=ar, text=شكرا لكم على كل شيء., pronunciation=shukran lakum ealaa kuli shay'., extra_data=\"{'confiden...\")\n"
          ]
        }
      ],
      "source": [
        "translated_text = translator.translate(text, src = lang, dest = 'ar')\n",
        "print(translated_text)"
      ]
    },
    {
      "cell_type": "code",
      "execution_count": 8,
      "metadata": {
        "colab": {
          "base_uri": "https://localhost:8080/"
        },
        "id": "7TohwBgaofBx",
        "outputId": "f873685b-ae92-4b5a-ee3a-78739e7a8ecf"
      },
      "outputs": [
        {
          "name": "stdout",
          "output_type": "stream",
          "text": [
            "Translated(src=fr, dest=ta, text=எல்லாவற்றிற்கும் நன்றி., pronunciation=Ellāvaṟṟiṟkum naṉṟi., extra_data=\"{'confiden...\")\n"
          ]
        }
      ],
      "source": [
        "translated_text = translator.translate(text, src = lang, dest = 'ta')\n",
        "print(translated_text)"
      ]
    },
    {
      "cell_type": "code",
      "execution_count": 9,
      "metadata": {
        "colab": {
          "base_uri": "https://localhost:8080/"
        },
        "id": "J-qfG2-cpIP1",
        "outputId": "f759e779-076a-47c1-9e92-7f38cc35b8cd"
      },
      "outputs": [
        {
          "name": "stdout",
          "output_type": "stream",
          "text": [
            "Translated(src=fr, dest=te, text=అన్నిటి కోసం ధన్యవాదాలు., pronunciation=Anniṭi kōsaṁ dhan'yavādālu., extra_data=\"{'confiden...\")\n"
          ]
        }
      ],
      "source": [
        "translated_text = translator.translate(text, src = lang, dest = 'te')\n",
        "print(translated_text)"
      ]
    }
  ],
  "metadata": {
    "colab": {
      "provenance": []
    },
    "kernelspec": {
      "display_name": "Python 3",
      "name": "python3"
    },
    "language_info": {
      "codemirror_mode": {
        "name": "ipython",
        "version": 3
      },
      "file_extension": ".py",
      "mimetype": "text/x-python",
      "name": "python",
      "nbconvert_exporter": "python",
      "pygments_lexer": "ipython3",
      "version": "3.11.5"
    }
  },
  "nbformat": 4,
  "nbformat_minor": 0
}
